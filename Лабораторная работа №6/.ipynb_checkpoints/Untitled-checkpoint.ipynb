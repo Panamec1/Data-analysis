{
 "cells": [
  {
   "cell_type": "code",
   "execution_count": 1,
   "id": "db94082e-c29f-4eea-accd-29b2989b1aba",
   "metadata": {},
   "outputs": [],
   "source": [
    "from platform import python_version\n",
    "import cv2\n",
    "\n",
    "import numpy as np\n",
    "import matplotlib.pyplot as plt\n",
    "\n",
    "import random\n",
    "import numpy as np\n",
    "\n",
    "import torch\n",
    "import torch.nn as nn\n",
    "\n",
    "import scipy\n",
    "\n",
    "import torchvision\n",
    "import torchvision.transforms as transforms\n",
    "from torchvision.datasets import ImageNet, SBDataset, SVHN\n",
    "from torchvision.datasets import KMNIST\n",
    "from torch.utils.data import DataLoader\n",
    "from torchvision.models import resnet50\n",
    "\n",
    "from tqdm.notebook import tqdm, trange"
   ]
  },
  {
   "cell_type": "code",
   "execution_count": 2,
   "id": "8593ab02-d997-4f66-a151-61d809fa3b7a",
   "metadata": {},
   "outputs": [],
   "source": [
    "random.seed(1)\n",
    "np.random.seed(1)\n",
    "torch.manual_seed(1)\n",
    "torch.cuda.manual_seed(1)\n",
    "torch.backends.cudnn.deterministic = True"
   ]
  },
  {
   "cell_type": "code",
   "execution_count": 4,
   "id": "b8800511-5849-4bfe-8d31-4d5e45dff3be",
   "metadata": {},
   "outputs": [],
   "source": [
    "OUTPUT_DIM = 10  \n",
    "EPOCH_NUM = 4  \n",
    "\n",
    "DEVICE = 'cuda' if torch.cuda.is_available() else 'cpu'"
   ]
  },
  {
   "cell_type": "code",
   "execution_count": 5,
   "id": "a5f93630-8d22-4cdf-bed2-0bcb96fa30b5",
   "metadata": {},
   "outputs": [],
   "source": [
    "basic_transform = transforms.Compose([\n",
    "    transforms.Pad(4),\n",
    "    transforms.RandomHorizontalFlip(),\n",
    "    transforms.RandomCrop(32),\n",
    "    transforms.ToTensor()\n",
    "])  \n",
    "\n",
    "train_dataset = SVHN(\n",
    "    root='./SVHN/train',\n",
    "    split='train',\n",
    "    transform=basic_transform,\n",
    "    download=True\n",
    ")\n",
    "\n",
    "test_dataset = SVHN(\n",
    "    root='./SVHN/test',\n",
    "    split='test',\n",
    "    transform=transforms.ToTensor(),  # Для тестовых данные НЕ НАДО использовать нгикакие аугментации\n",
    "    download=True\n",
    ")"
   ]
  },
  {
   "cell_type": "code",
   "execution_count": null,
   "id": "e95ad200-00fb-475e-bbf4-adaec6121803",
   "metadata": {},
   "outputs": [],
   "source": []
  }
 ],
 "metadata": {
  "kernelspec": {
   "display_name": "Python 3 (ipykernel)",
   "language": "python",
   "name": "python3"
  },
  "language_info": {
   "codemirror_mode": {
    "name": "ipython",
    "version": 3
   },
   "file_extension": ".py",
   "mimetype": "text/x-python",
   "name": "python",
   "nbconvert_exporter": "python",
   "pygments_lexer": "ipython3",
   "version": "3.7.4"
  }
 },
 "nbformat": 4,
 "nbformat_minor": 5
}
