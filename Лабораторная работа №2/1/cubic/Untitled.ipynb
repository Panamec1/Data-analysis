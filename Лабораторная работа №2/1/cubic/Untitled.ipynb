{
 "cells": [
  {
   "cell_type": "code",
   "execution_count": 1,
   "id": "ee88dad0-08c8-40f1-9736-830c47e858c3",
   "metadata": {},
   "outputs": [
    {
     "name": "stdout",
     "output_type": "stream",
     "text": [
      "Requirement already satisfied: cubic in c:\\users\\user\\appdata\\local\\programs\\python\\python37\\lib\\site-packages (0.5.0)\n"
     ]
    },
    {
     "name": "stderr",
     "output_type": "stream",
     "text": [
      "You are using pip version 19.0.3, however version 21.3 is available.\n",
      "You should consider upgrading via the 'python -m pip install --upgrade pip' command.\n"
     ]
    }
   ],
   "source": [
    "!pip install cubic"
   ]
  },
  {
   "cell_type": "code",
   "execution_count": 1,
   "id": "724d8b89-85b2-48de-a240-e1ae4211927c",
   "metadata": {},
   "outputs": [
    {
     "name": "stdout",
     "output_type": "stream",
     "text": [
      "Collecting cubic"
     ]
    },
    {
     "name": "stderr",
     "output_type": "stream",
     "text": [
      "You are using pip version 19.0.3, however version 21.3 is available.\n",
      "You should consider upgrading via the 'python -m pip install --upgrade pip' command.\n"
     ]
    },
    {
     "name": "stdout",
     "output_type": "stream",
     "text": [
      "\n",
      "  Using cached https://files.pythonhosted.org/packages/54/39/081d1de7acb2b25bc67272fa6361ac5e198574b5f69e922a082cf3d18ebe/cubic-0.5.0.tar.gz\n",
      "Installing collected packages: cubic\n",
      "  Running setup.py install for cubic: started\n",
      "    Running setup.py install for cubic: finished with status 'done'\n",
      "Successfully installed cubic-0.5.0\n"
     ]
    }
   ],
   "source": [
    "!pip install cubic"
   ]
  },
  {
   "cell_type": "code",
   "execution_count": 6,
   "id": "ab486fe4-ae42-48d3-9cc5-b64ee5cf4538",
   "metadata": {},
   "outputs": [
    {
     "data": {
      "text/plain": [
       "<module 'cubic.monotonecubic' from 'C:\\\\Users\\\\User\\\\Desktop\\\\Предметы\\\\Д.з\\\\Курс III\\\\Анализ данных\\\\Лабораторная работа №2\\\\1\\\\cubic\\\\cubic\\\\monotonecubic.py'>"
      ]
     },
     "execution_count": 6,
     "metadata": {},
     "output_type": "execute_result"
    }
   ],
   "source": [
    "from cubic import monotonecubic\n",
    "print(monotonecubic)"
   ]
  },
  {
   "cell_type": "code",
   "execution_count": null,
   "id": "a4e66598-ba7e-4e4a-92c7-f8477caf9e71",
   "metadata": {},
   "outputs": [],
   "source": []
  },
  {
   "cell_type": "code",
   "execution_count": null,
   "id": "161af979-0609-4cd5-a6a9-214c3ddb1827",
   "metadata": {},
   "outputs": [],
   "source": []
  }
 ],
 "metadata": {
  "kernelspec": {
   "display_name": "Python 3 (ipykernel)",
   "language": "python",
   "name": "python3"
  },
  "language_info": {
   "codemirror_mode": {
    "name": "ipython",
    "version": 3
   },
   "file_extension": ".py",
   "mimetype": "text/x-python",
   "name": "python",
   "nbconvert_exporter": "python",
   "pygments_lexer": "ipython3",
   "version": "3.7.4"
  }
 },
 "nbformat": 4,
 "nbformat_minor": 5
}
